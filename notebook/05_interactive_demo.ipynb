{
 "cells": [
  {
   "cell_type": "code",
   "execution_count": 2,
   "id": "7797055d",
   "metadata": {},
   "outputs": [
    {
     "name": "stdout",
     "output_type": "stream",
     "text": [
      "✅ Model and vectorizer loaded successfully!\n"
     ]
    }
   ],
   "source": [
    "import joblib\n",
    "import ipywidgets as widgets\n",
    "from IPython.display import display, Markdown\n",
    "import numpy as np\n",
    "\n",
    "# Load model and vectorizer\n",
    "model = joblib.load('../models/best_model.pkl')\n",
    "vectorizer = joblib.load('../models/tfidf_vectorizer.pkl')\n",
    "\n",
    "print(\"✅ Model and vectorizer loaded successfully!\")"
   ]
  },
  {
   "cell_type": "code",
   "execution_count": 4,
   "id": "76d428c2",
   "metadata": {},
   "outputs": [],
   "source": [
    "def predict_sentiment(text):\n",
    "    vec = vectorizer.transform([text])\n",
    "    prediction = model.predict(vec)[0]\n",
    "    probas = model.predict_proba(vec)[0]\n",
    "\n",
    "    label = f\"### 🔮 Prediction: *{prediction.upper()}*\"\n",
    "    confidence = f\"*Confidence:* {np.max(probas) * 100:.2f}%\"\n",
    "\n",
    "    return label, confidence, probas"
   ]
  },
  {
   "cell_type": "code",
   "execution_count": null,
   "id": "d319a022",
   "metadata": {},
   "outputs": [
    {
     "data": {
      "text/markdown": [
       "## 🎤 Enter a Review Below:"
      ],
      "text/plain": [
       "<IPython.core.display.Markdown object>"
      ]
     },
     "metadata": {},
     "output_type": "display_data"
    },
    {
     "data": {
      "application/vnd.jupyter.widget-view+json": {
       "model_id": "5603e9a5ae3f48e386a97b98575a63f1",
       "version_major": 2,
       "version_minor": 0
      },
      "text/plain": [
       "Textarea(value='I absolutely loved this movie!', description='Text:', layout=Layout(height='120px', width='100…"
      ]
     },
     "metadata": {},
     "output_type": "display_data"
    },
    {
     "data": {
      "application/vnd.jupyter.widget-view+json": {
       "model_id": "5b8b11e571514920bd5031f92396769a",
       "version_major": 2,
       "version_minor": 0
      },
      "text/plain": [
       "Output()"
      ]
     },
     "metadata": {},
     "output_type": "display_data"
    }
   ],
   "source": [
    "input_box = widgets.Textarea(\n",
    "    value='I absolutely loved this movie!',\n",
    "    placeholder='Enter your review text here...',\n",
    "    description='Text:',\n",
    "    layout=widgets.Layout(width='100%', height='120px'),\n",
    "    style={'description_width': 'initial'}\n",
    ")\n",
    "\n",
    "output = widgets.Output()\n",
    "\n",
    "def on_submit(change):\n",
    "    output.clear_output()\n",
    "    with output:\n",
    "        label, confidence, probas = predict_sentiment(change['new'])\n",
    "        display(Markdown(label))\n",
    "        display(Markdown(confidence))\n",
    "\n",
    "input_box.observe(on_submit, names='value')\n",
    "\n",
    "display(Markdown(\"## 🎤 Enter a Review Below:\"))\n",
    "display(input_box, output)"
   ]
  }
 ],
 "metadata": {
  "kernelspec": {
   "display_name": "sentiment_env",
   "language": "python",
   "name": "python3"
  },
  "language_info": {
   "codemirror_mode": {
    "name": "ipython",
    "version": 3
   },
   "file_extension": ".py",
   "mimetype": "text/x-python",
   "name": "python",
   "nbconvert_exporter": "python",
   "pygments_lexer": "ipython3",
   "version": "3.13.3"
  }
 },
 "nbformat": 4,
 "nbformat_minor": 5
}
