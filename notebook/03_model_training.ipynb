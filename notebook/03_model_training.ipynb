{
 "cells": [
  {
   "cell_type": "code",
   "execution_count": 4,
   "id": "15588ba6",
   "metadata": {},
   "outputs": [
    {
     "name": "stdout",
     "output_type": "stream",
     "text": [
      "✅ Using 5000 samples for training.\n"
     ]
    },
    {
     "data": {
      "text/html": [
       "<div>\n",
       "<style scoped>\n",
       "    .dataframe tbody tr th:only-of-type {\n",
       "        vertical-align: middle;\n",
       "    }\n",
       "\n",
       "    .dataframe tbody tr th {\n",
       "        vertical-align: top;\n",
       "    }\n",
       "\n",
       "    .dataframe thead th {\n",
       "        text-align: right;\n",
       "    }\n",
       "</style>\n",
       "<table border=\"1\" class=\"dataframe\">\n",
       "  <thead>\n",
       "    <tr style=\"text-align: right;\">\n",
       "      <th></th>\n",
       "      <th>processed_review</th>\n",
       "      <th>sentiment</th>\n",
       "    </tr>\n",
       "  </thead>\n",
       "  <tbody>\n",
       "    <tr>\n",
       "      <th>0</th>\n",
       "      <td>really liked summerslam due look arena curtain...</td>\n",
       "      <td>positive</td>\n",
       "    </tr>\n",
       "    <tr>\n",
       "      <th>1</th>\n",
       "      <td>many television show appeal quite many differe...</td>\n",
       "      <td>positive</td>\n",
       "    </tr>\n",
       "    <tr>\n",
       "      <th>2</th>\n",
       "      <td>film quickly get major chase scene ever increa...</td>\n",
       "      <td>negative</td>\n",
       "    </tr>\n",
       "    <tr>\n",
       "      <th>3</th>\n",
       "      <td>jane austen would definitely approve onegwynet...</td>\n",
       "      <td>positive</td>\n",
       "    </tr>\n",
       "    <tr>\n",
       "      <th>4</th>\n",
       "      <td>expectation somewhat high went see movie thoug...</td>\n",
       "      <td>negative</td>\n",
       "    </tr>\n",
       "  </tbody>\n",
       "</table>\n",
       "</div>"
      ],
      "text/plain": [
       "                                    processed_review sentiment\n",
       "0  really liked summerslam due look arena curtain...  positive\n",
       "1  many television show appeal quite many differe...  positive\n",
       "2  film quickly get major chase scene ever increa...  negative\n",
       "3  jane austen would definitely approve onegwynet...  positive\n",
       "4  expectation somewhat high went see movie thoug...  negative"
      ]
     },
     "execution_count": 4,
     "metadata": {},
     "output_type": "execute_result"
    }
   ],
   "source": [
    "import pandas as pd\n",
    "import numpy as np\n",
    "import matplotlib.pyplot as plt\n",
    "import seaborn as sns\n",
    "import joblib\n",
    "\n",
    "from sklearn.model_selection import train_test_split, cross_val_score\n",
    "from sklearn.feature_extraction.text import TfidfVectorizer\n",
    "\n",
    "from sklearn.linear_model import LogisticRegression\n",
    "from sklearn.naive_bayes import MultinomialNB\n",
    "from sklearn.ensemble import RandomForestClassifier\n",
    "from sklearn.svm import SVC\n",
    "\n",
    "from sklearn.metrics import accuracy_score, classification_report, confusion_matrix\n",
    "\n",
    "# Load processed data\n",
    "df = pd.read_csv('../data/processed/processed_reviews.csv')\n",
    "\n",
    "# Use only 5,000 samples for faster training\n",
    "df = df.sample(n=5000, random_state=42).reset_index(drop=True)\n",
    "\n",
    "print(f\"✅ Using {len(df)} samples for training.\")\n",
    "df.head()"
   ]
  },
  {
   "cell_type": "code",
   "execution_count": 5,
   "id": "45958d60",
   "metadata": {},
   "outputs": [
    {
     "name": "stdout",
     "output_type": "stream",
     "text": [
      "🔄 Applying TF-IDF...\n",
      "✅ TF-IDF Matrix Shape: (4000, 10000)\n"
     ]
    }
   ],
   "source": [
    "# Features and labels\n",
    "X = df['processed_review']\n",
    "y = df['sentiment']\n",
    "\n",
    "# Train/test split\n",
    "X_train, X_test, y_train, y_test = train_test_split(\n",
    "    X, y, test_size=0.2, stratify=y, random_state=42\n",
    ")\n",
    "\n",
    "# TF-IDF vectorization\n",
    "print(\"🔄 Applying TF-IDF...\")\n",
    "tfidf = TfidfVectorizer(max_features=10000, ngram_range=(1, 2), min_df=2, max_df=0.95)\n",
    "X_train_tfidf = tfidf.fit_transform(X_train)\n",
    "X_test_tfidf = tfidf.transform(X_test)\n",
    "\n",
    "print(f\"✅ TF-IDF Matrix Shape: {X_train_tfidf.shape}\")"
   ]
  },
  {
   "cell_type": "code",
   "execution_count": 6,
   "id": "a1073ddc",
   "metadata": {},
   "outputs": [
    {
     "name": "stdout",
     "output_type": "stream",
     "text": [
      "\n",
      "🔁 Training: Logistic Regression\n",
      "✅ Logistic Regression → CV: 0.8483 ± 0.0103, Test: 0.8530\n",
      "\n",
      "🔁 Training: Naive Bayes\n",
      "✅ Naive Bayes → CV: 0.8450 ± 0.0076, Test: 0.8490\n",
      "\n",
      "🔁 Training: Random Forest\n",
      "✅ Random Forest → CV: 0.8205 ± 0.0098, Test: 0.8390\n",
      "\n",
      "🔁 Training: SVM\n",
      "✅ SVM → CV: 0.8460 ± 0.0102, Test: 0.8510\n"
     ]
    }
   ],
   "source": [
    "models = {\n",
    "    'Logistic Regression': LogisticRegression(max_iter=1000, random_state=42),\n",
    "    'Naive Bayes': MultinomialNB(),\n",
    "    'Random Forest': RandomForestClassifier(n_estimators=100, random_state=42),\n",
    "    'SVM': SVC(kernel='linear', probability=True, random_state=42)\n",
    "}\n",
    "\n",
    "results = {}\n",
    "trained_models = {}\n",
    "\n",
    "for name, model in models.items():\n",
    "    print(f\"\\n🔁 Training: {name}\")\n",
    "    model.fit(X_train_tfidf, y_train)\n",
    "    trained_models[name] = model\n",
    "\n",
    "    # Cross-validation\n",
    "    cv_scores = cross_val_score(model, X_train_tfidf, y_train, cv=5, scoring='accuracy')\n",
    "    y_pred = model.predict(X_test_tfidf)\n",
    "    test_acc = accuracy_score(y_test, y_pred)\n",
    "\n",
    "    results[name] = {\n",
    "        'CV Mean': cv_scores.mean(),\n",
    "        'CV Std': cv_scores.std(),\n",
    "        'Test Accuracy': test_acc\n",
    "    }\n",
    "\n",
    "    print(f\"✅ {name} → CV: {cv_scores.mean():.4f} ± {cv_scores.std():.4f}, Test: {test_acc:.4f}\")"
   ]
  },
  {
   "cell_type": "code",
   "execution_count": 7,
   "id": "b45a2d67",
   "metadata": {},
   "outputs": [
    {
     "data": {
      "text/html": [
       "<style type=\"text/css\">\n",
       "#T_4fb03_row0_col0, #T_4fb03_row0_col1, #T_4fb03_row0_col2 {\n",
       "  background-color: #08306b;\n",
       "  color: #f1f1f1;\n",
       "}\n",
       "#T_4fb03_row1_col0 {\n",
       "  background-color: #08458a;\n",
       "  color: #f1f1f1;\n",
       "}\n",
       "#T_4fb03_row1_col1 {\n",
       "  background-color: #083c7d;\n",
       "  color: #f1f1f1;\n",
       "}\n",
       "#T_4fb03_row1_col2 {\n",
       "  background-color: #0b559f;\n",
       "  color: #f1f1f1;\n",
       "}\n",
       "#T_4fb03_row2_col0 {\n",
       "  background-color: #084e98;\n",
       "  color: #f1f1f1;\n",
       "}\n",
       "#T_4fb03_row2_col1, #T_4fb03_row3_col0, #T_4fb03_row3_col2 {\n",
       "  background-color: #f7fbff;\n",
       "  color: #000000;\n",
       "}\n",
       "#T_4fb03_row2_col2 {\n",
       "  background-color: #2b7bba;\n",
       "  color: #f1f1f1;\n",
       "}\n",
       "#T_4fb03_row3_col1 {\n",
       "  background-color: #125da6;\n",
       "  color: #f1f1f1;\n",
       "}\n",
       "</style>\n",
       "<table id=\"T_4fb03\">\n",
       "  <thead>\n",
       "    <tr>\n",
       "      <th class=\"blank level0\" >&nbsp;</th>\n",
       "      <th id=\"T_4fb03_level0_col0\" class=\"col_heading level0 col0\" >CV Mean</th>\n",
       "      <th id=\"T_4fb03_level0_col1\" class=\"col_heading level0 col1\" >CV Std</th>\n",
       "      <th id=\"T_4fb03_level0_col2\" class=\"col_heading level0 col2\" >Test Accuracy</th>\n",
       "    </tr>\n",
       "  </thead>\n",
       "  <tbody>\n",
       "    <tr>\n",
       "      <th id=\"T_4fb03_level0_row0\" class=\"row_heading level0 row0\" >Logistic Regression</th>\n",
       "      <td id=\"T_4fb03_row0_col0\" class=\"data row0 col0\" >0.848250</td>\n",
       "      <td id=\"T_4fb03_row0_col1\" class=\"data row0 col1\" >0.010296</td>\n",
       "      <td id=\"T_4fb03_row0_col2\" class=\"data row0 col2\" >0.853000</td>\n",
       "    </tr>\n",
       "    <tr>\n",
       "      <th id=\"T_4fb03_level0_row1\" class=\"row_heading level0 row1\" >SVM</th>\n",
       "      <td id=\"T_4fb03_row1_col0\" class=\"data row1 col0\" >0.846000</td>\n",
       "      <td id=\"T_4fb03_row1_col1\" class=\"data row1 col1\" >0.010167</td>\n",
       "      <td id=\"T_4fb03_row1_col2\" class=\"data row1 col2\" >0.851000</td>\n",
       "    </tr>\n",
       "    <tr>\n",
       "      <th id=\"T_4fb03_level0_row2\" class=\"row_heading level0 row2\" >Naive Bayes</th>\n",
       "      <td id=\"T_4fb03_row2_col0\" class=\"data row2 col0\" >0.845000</td>\n",
       "      <td id=\"T_4fb03_row2_col1\" class=\"data row2 col1\" >0.007624</td>\n",
       "      <td id=\"T_4fb03_row2_col2\" class=\"data row2 col2\" >0.849000</td>\n",
       "    </tr>\n",
       "    <tr>\n",
       "      <th id=\"T_4fb03_level0_row3\" class=\"row_heading level0 row3\" >Random Forest</th>\n",
       "      <td id=\"T_4fb03_row3_col0\" class=\"data row3 col0\" >0.820500</td>\n",
       "      <td id=\"T_4fb03_row3_col1\" class=\"data row3 col1\" >0.009830</td>\n",
       "      <td id=\"T_4fb03_row3_col2\" class=\"data row3 col2\" >0.839000</td>\n",
       "    </tr>\n",
       "  </tbody>\n",
       "</table>\n"
      ],
      "text/plain": [
       "<pandas.io.formats.style.Styler at 0x1ac41a96e40>"
      ]
     },
     "execution_count": 7,
     "metadata": {},
     "output_type": "execute_result"
    }
   ],
   "source": [
    "# Convert to DataFrame for display\n",
    "results_df = pd.DataFrame(results).T.sort_values(by='Test Accuracy', ascending=False)\n",
    "results_df.style.background_gradient(cmap='Blues')"
   ]
  },
  {
   "cell_type": "code",
   "execution_count": 9,
   "id": "62b21c6d",
   "metadata": {},
   "outputs": [
    {
     "name": "stdout",
     "output_type": "stream",
     "text": [
      "✅ Best Model: Logistic Regression\n"
     ]
    },
    {
     "data": {
      "image/png": "[encoded data removed]",
      "text/plain": [
       "<Figure size 600x500 with 2 Axes>"
      ]
     },
     "metadata": {},
     "output_type": "display_data"
    },
    {
     "name": "stdout",
     "output_type": "stream",
     "text": [
      "📊 Classification Report:\n",
      "\n",
      "              precision    recall  f1-score   support\n",
      "\n",
      "    negative       0.86      0.83      0.85       496\n",
      "    positive       0.84      0.87      0.86       504\n",
      "\n",
      "    accuracy                           0.85      1000\n",
      "   macro avg       0.85      0.85      0.85      1000\n",
      "weighted avg       0.85      0.85      0.85      1000\n",
      "\n"
     ]
    }
   ],
   "source": [
    "# Choose best model (by test accuracy)\n",
    "best_model_name = results_df.index[0]\n",
    "best_model = trained_models[best_model_name]\n",
    "\n",
    "print(f\"✅ Best Model: {best_model_name}\")\n",
    "\n",
    "# Predict on test set\n",
    "y_pred = best_model.predict(X_test_tfidf)\n",
    "\n",
    "# Confusion matrix\n",
    "cm = confusion_matrix(y_test, y_pred)\n",
    "plt.figure(figsize=(6, 5))\n",
    "sns.heatmap(cm, annot=True, fmt='d', cmap='Blues', xticklabels=['Negative', 'Positive'], yticklabels=['Negative', 'Positive'])\n",
    "plt.xlabel(\"Predicted\")\n",
    "plt.ylabel(\"Actual\")\n",
    "plt.title(f\"Confusion Matrix - {best_model_name}\")\n",
    "plt.show()\n",
    "\n",
    "# Classification report\n",
    "print(\"📊 Classification Report:\\n\")\n",
    "print(classification_report(y_test,y_pred ))"
   ]
  },
  {
   "cell_type": "code",
   "execution_count": 10,
   "id": "29c62b82",
   "metadata": {},
   "outputs": [
    {
     "name": "stdout",
     "output_type": "stream",
     "text": [
      "💾 Model and vectorizer saved to '../models/'\n"
     ]
    }
   ],
   "source": [
    "# Save model and vectorizer\n",
    "joblib.dump(best_model, '../models/best_model.pkl')\n",
    "joblib.dump(tfidf, '../models/tfidf_vectorizer.pkl')\n",
    "\n",
    "print(\"💾 Model and vectorizer saved to '../models/'\")\n"
   ]
  }
 ],
 "metadata": {
  "kernelspec": {
   "display_name": "sentiment_env",
   "language": "python",
   "name": "python3"
  },
  "language_info": {
   "codemirror_mode": {
    "name": "ipython",
    "version": 3
   },
   "file_extension": ".py",
   "mimetype": "text/x-python",
   "name": "python",
   "nbconvert_exporter": "python",
   "pygments_lexer": "ipython3",
   "version": "3.13.3"
  }
 },
 "nbformat": 4,
 "nbformat_minor": 5
}
